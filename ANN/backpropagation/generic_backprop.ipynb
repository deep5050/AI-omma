{
 "cells": [
  {
   "cell_type": "code",
   "execution_count": 1,
   "metadata": {},
   "outputs": [],
   "source": [
    "import numpy as np\n",
    "import matplotlib.pyplot as plt\n",
    "# for this assignment we are using this only for ploting the MSE in each tuning iteration"
   ]
  },
  {
   "cell_type": "code",
   "execution_count": 2,
   "metadata": {},
   "outputs": [],
   "source": [
    "np.random.seed(100)"
   ]
  },
  {
   "cell_type": "code",
   "execution_count": 3,
   "metadata": {},
   "outputs": [],
   "source": [
    "#Object Oriented approach of the neural network model has been taken here\n",
    "#we are assuming here that weights,bias,activation function can be given by the user as function parameter\n",
    "# if these paremeters are not passed to the class , each layer will be likely different\n",
    "# w.r.t to the bias and weights from the other one\n",
    "# To make the the whole program generic , we have assumed that there can be \n",
    "# more than one activation function to experiment with, so every time we create an object \n",
    "# of this class we specify the activation type"
   ]
  },
  {
   "cell_type": "code",
   "execution_count": 4,
   "metadata": {},
   "outputs": [],
   "source": [
    "class Layer:\n",
    "    \"\"\"\n",
    "    Represents a layer (hidden or output) in our neural network.\n",
    "    \"\"\"\n",
    "\n",
    "    def __init__(self, n_input, n_neurons, activation=None, weights=None, bias=None):\n",
    "        \"\"\"\n",
    "        :param int n_input: The input size (coming from the input layer or a previous hidden layer)\n",
    "        :param int n_neurons: The number of neurons in this layer.\n",
    "        :param str activation: The activation function to use (if any).\n",
    "        :param weights: The layer's weights.\n",
    "        :param bias: The layer's bias.\n",
    "        \"\"\"\n",
    "        \n",
    "        # if bias and weights are not passed to the constructor set them randomly\n",
    "        self.weights = weights if weights is not None else np.random.rand(n_input, n_neurons)\n",
    "        self.activation = activation\n",
    "        self.bias = bias if bias is not None else np.random.rand(n_neurons)\n",
    "        self.last_activation = None # incase we need different activation functions in future\n",
    "        self.error = None\n",
    "        self.delta = None\n",
    "\n",
    "    def activate(self, x):\n",
    "        \"\"\"\n",
    "        Calculates the dot product of this layer.\n",
    "        :param x: The input.\n",
    "        :return: The result.\n",
    "        \"\"\"\n",
    "\n",
    "        r = np.dot(x, self.weights) + self.bias\n",
    "        self.last_activation = self._apply_activation(r)\n",
    "        return self.last_activation\n",
    "\n",
    "    def _apply_activation(self, r):\n",
    "        \"\"\"\n",
    "        Applies the chosen activation function (if any).\n",
    "        :param r: The normal value.\n",
    "        :return: The \"activated\" value.\n",
    "        \"\"\"\n",
    "\n",
    "        # sigmoid\n",
    "        if self.activation == 'sigmoid':\n",
    "            return 1 / (1 + np.exp(-r))\n",
    "\n",
    "        return r\n",
    "\n",
    "    def apply_activation_derivative(self, r):\n",
    "        \"\"\"\n",
    "        Applies the derivative of the activation function (if any).\n",
    "        :param r: The normal value.\n",
    "        :return: The \"derived\" value.\n",
    "        \"\"\"\n",
    "\n",
    "        # We use 'r' directly here because its already activated, the only values that\n",
    "        # are used in this function are the last activations that were saved.\n",
    "\n",
    "        if self.activation == 'sigmoid':\n",
    "            return r * (1 - r)\n",
    "\n",
    "        return r\n"
   ]
  },
  {
   "cell_type": "code",
   "execution_count": 5,
   "metadata": {},
   "outputs": [],
   "source": [
    "# Object Oriented implementation of the actual network.\n",
    "# here the input to the network acts as the input layer\n",
    "# every time we add a hidden layer( remember: the last hidden layer is actuall the output layer)\n",
    "# by calling the add_layer() function\n",
    "# The add_layer() calls' parameters should be in zig-zag format\n"
   ]
  },
  {
   "cell_type": "code",
   "execution_count": 6,
   "metadata": {},
   "outputs": [],
   "source": [
    "class NeuralNetwork:\n",
    "    \"\"\"\n",
    "    Represents a neural network.\n",
    "    \"\"\"\n",
    "\n",
    "    def __init__(self):\n",
    "        self._layers = []\n",
    "\n",
    "    def add_layer(self, layer):\n",
    "        \"\"\"\n",
    "        Adds a layer to the neural network.\n",
    "        :param Layer layer: The layer to add.\n",
    "        \"\"\"\n",
    "\n",
    "        self._layers.append(layer)\n",
    "\n",
    "    def feed_forward(self, X):\n",
    "        \"\"\"\n",
    "        Feed forward the input through the layers.\n",
    "        :param X: The input values.\n",
    "        :return: The result.\n",
    "        \"\"\"\n",
    "\n",
    "        for layer in self._layers:\n",
    "            X = layer.activate(X)\n",
    "\n",
    "        return X\n",
    "\n",
    "    def predict(self, X):\n",
    "        \"\"\"\n",
    "        Predicts a class (or classes).\n",
    "        :param X: The input values.\n",
    "        :return: The predictions.\n",
    "        \"\"\"\n",
    "\n",
    "        ff = self.feed_forward(X)\n",
    "\n",
    "        # If One row output, simply return the value\n",
    "        if ff.ndim == 1:\n",
    "            return np.argmax(ff)\n",
    "\n",
    "        # If Multiple rows, return the index having maximum value \n",
    "        return np.argmax(ff, axis=1)\n",
    "\n",
    "    def backpropagation(self, X, y, learning_rate):\n",
    "        \"\"\"\n",
    "        Performs the backward propagation algorithm and updates the layers weights.\n",
    "        :param X: The input values.\n",
    "        :param y: The target values.\n",
    "        :param float learning_rate: The learning rate (between 0 and 1).\n",
    "        \"\"\"\n",
    "\n",
    "        # Feed forward for the output\n",
    "        output = self.feed_forward(X)\n",
    "\n",
    "        # Loop over the layers backward\n",
    "        for i in reversed(range(len(self._layers))):\n",
    "            layer = self._layers[i]\n",
    "\n",
    "            # If this is the output layer\n",
    "            if layer == self._layers[-1]:\n",
    "                layer.error = y - output\n",
    "                # The output = layer.last_activation in this case\n",
    "                layer.delta = layer.error * layer.apply_activation_derivative(output)\n",
    "            else:\n",
    "                next_layer = self._layers[i + 1]\n",
    "                layer.error = np.dot(next_layer.weights, next_layer.delta)\n",
    "                layer.delta = layer.error * layer.apply_activation_derivative(layer.last_activation)\n",
    "\n",
    "        # Update the weights\n",
    "        for i in range(len(self._layers)):\n",
    "            layer = self._layers[i]\n",
    "            # The input is either the previous layers output or X itself (for the first hidden layer)\n",
    "            # the input shoul be atleast two\n",
    "            input_to_use = np.atleast_2d(X if i == 0 else self._layers[i - 1].last_activation)\n",
    "            layer.weights += layer.delta * input_to_use.T * learning_rate\n",
    "\n",
    "    def train(self, X, y, learning_rate, max_epochs):\n",
    "        \"\"\"\n",
    "        Trains the neural network using backpropagation.\n",
    "        :param X: The input values.\n",
    "        :param y: The target values.\n",
    "        :param float learning_rate: The learning rate (between 0 and 1).\n",
    "        :param int max_epochs: The maximum number of epochs (cycles).\n",
    "        :return: The list of calculated MSE errors.\n",
    "        \"\"\"\n",
    "        # stores the MSE values in each iteration ( useful for ploting purpose)\n",
    "        mses = []\n",
    "\n",
    "        for i in range(max_epochs):\n",
    "            for j in range(len(X)):\n",
    "                self.backpropagation(X[j], y[j], learning_rate)\n",
    "            if i % 1000 == 0:\n",
    "                mse = np.mean(np.square(y - self.feed_forward(X)))\n",
    "                mses.append(mse)\n",
    "                print('Epoch: #%s, MSE: %f' % (i, float(mse)))\n",
    "\n",
    "        return mses\n",
    "    \n",
    "#     @staticmethod\n",
    "#     def accuracy(y_pred, y_true):\n",
    "#         \"\"\"\n",
    "#         Calculates the accuracy between the predicted labels and true labels.\n",
    "#         :param y_pred: The predicted labels.\n",
    "#         :param y_true: The true labels.\n",
    "#         :return: The calculated accuracy.\n",
    "#         \"\"\"\n",
    "\n",
    "#         return (y_pred == y_true).mean()\n"
   ]
  },
  {
   "cell_type": "code",
   "execution_count": 7,
   "metadata": {},
   "outputs": [],
   "source": [
    "# For this assignment we have to find the optimal learning rate for the whole model for which MSE becomes 0 ( let say)\n",
    "# on earlier iteration\n",
    "\n",
    "# We are calling this function with learning rate = learning  rate  + 0.1"
   ]
  },
  {
   "cell_type": "code",
   "execution_count": 8,
   "metadata": {
    "scrolled": false
   },
   "outputs": [],
   "source": [
    "\n",
    "def tune(lr):\n",
    "    nn = NeuralNetwork()\n",
    "    nn.add_layer(Layer(3, 5, 'sigmoid'))\n",
    "    nn.add_layer(Layer(5, 3, 'sigmoid'))\n",
    "    nn.add_layer(Layer(3, 2, 'sigmoid'))\n",
    "\n",
    "    # Define dataset\n",
    "    X = np.array([[0, 0,0],[0,0,1], [0, 1,0], [0,1, 1], [1,0,0],[1, 1,1]])\n",
    "    y = np.array([[0], [0], [0],[0],[0],[1]])\n",
    "\n",
    "    # Train the neural network\n",
    "    errors = nn.train(X, y,lr, 10000)\n",
    "#     print('Accuracy: %.2f%%' % (nn.accuracy(nn.predict(X), y.flatten()) * 100))\n",
    "\n",
    "    # Plot changes in mse\n",
    "    plt.plot(errors)\n",
    "    plt.title('Changes in MSE')\n",
    "    plt.xlabel('Epoch (every 1000th)')\n",
    "    plt.ylabel('MSE')\n",
    "    plt.show()\n",
    "\n",
    "#     print(nn.predict([[1,1,1], [1,1,1], [1,0,1]]))\n",
    "    \n",
    "    \n",
    "    \n"
   ]
  },
  {
   "cell_type": "code",
   "execution_count": 9,
   "metadata": {},
   "outputs": [],
   "source": [
    "# Calling the tune function with increasing lr value.\n",
    "# we have to compare with plot carefully. for some iteration the output can be totally different \n",
    "# especially for the higher lr values ( over fitting)\n",
    "# for extremely lower lr values we may require a large number of max_iteration value.\n",
    "# we are starting the tuning with initial lr value 0.2 and continue upto 0.9"
   ]
  },
  {
   "cell_type": "code",
   "execution_count": 10,
   "metadata": {
    "scrolled": false
   },
   "outputs": [
    {
     "name": "stdout",
     "output_type": "stream",
     "text": [
      "Training set : Bipolar AND\n",
      "\n",
      "Testing the network with learning rate  0.2\n",
      "Epoch: #0, MSE: 0.587965\n",
      "Epoch: #1000, MSE: 0.135627\n",
      "Epoch: #2000, MSE: 0.058733\n",
      "Epoch: #3000, MSE: 0.002685\n",
      "Epoch: #4000, MSE: 0.001196\n",
      "Epoch: #5000, MSE: 0.000753\n",
      "Epoch: #6000, MSE: 0.000546\n",
      "Epoch: #7000, MSE: 0.000426\n",
      "Epoch: #8000, MSE: 0.000349\n",
      "Epoch: #9000, MSE: 0.000295\n"
     ]
    },
    {
     "data": {
      "image/png": "[encoded data removed]",
      "text/plain": [
       "<Figure size 432x288 with 1 Axes>"
      ]
     },
     "metadata": {
      "needs_background": "light"
     },
     "output_type": "display_data"
    },
    {
     "name": "stdout",
     "output_type": "stream",
     "text": [
      "\n",
      "Testing the network with learning rate  0.30000000000000004\n",
      "Epoch: #0, MSE: 0.563273\n",
      "Epoch: #1000, MSE: 0.138509\n",
      "Epoch: #2000, MSE: 0.003410\n",
      "Epoch: #3000, MSE: 0.000838\n",
      "Epoch: #4000, MSE: 0.000459\n",
      "Epoch: #5000, MSE: 0.000313\n",
      "Epoch: #6000, MSE: 0.000236\n",
      "Epoch: #7000, MSE: 0.000189\n",
      "Epoch: #8000, MSE: 0.000158\n",
      "Epoch: #9000, MSE: 0.000135\n"
     ]
    },
    {
     "data": {
      "image/png": "[encoded data removed]",
      "text/plain": [
       "<Figure size 432x288 with 1 Axes>"
      ]
     },
     "metadata": {
      "needs_background": "light"
     },
     "output_type": "display_data"
    },
    {
     "name": "stdout",
     "output_type": "stream",
     "text": [
      "\n",
      "Testing the network with learning rate  0.4\n",
      "Epoch: #0, MSE: 0.451128\n",
      "Epoch: #1000, MSE: 0.020802\n",
      "Epoch: #2000, MSE: 0.001178\n",
      "Epoch: #3000, MSE: 0.000545\n",
      "Epoch: #4000, MSE: 0.000348\n",
      "Epoch: #5000, MSE: 0.000254\n",
      "Epoch: #6000, MSE: 0.000199\n",
      "Epoch: #7000, MSE: 0.000164\n",
      "Epoch: #8000, MSE: 0.000139\n",
      "Epoch: #9000, MSE: 0.000120\n"
     ]
    },
    {
     "data": {
      "image/png": "[encoded data removed]",
      "text/plain": [
       "<Figure size 432x288 with 1 Axes>"
      ]
     },
     "metadata": {
      "needs_background": "light"
     },
     "output_type": "display_data"
    },
    {
     "name": "stdout",
     "output_type": "stream",
     "text": [
      "\n",
      "Testing the network with learning rate  0.5\n",
      "Epoch: #0, MSE: 0.506018\n",
      "Epoch: #1000, MSE: 0.002822\n",
      "Epoch: #2000, MSE: 0.000503\n",
      "Epoch: #3000, MSE: 0.000258\n",
      "Epoch: #4000, MSE: 0.000170\n",
      "Epoch: #5000, MSE: 0.000125\n",
      "Epoch: #6000, MSE: 0.000099\n",
      "Epoch: #7000, MSE: 0.000081\n",
      "Epoch: #8000, MSE: 0.000069\n",
      "Epoch: #9000, MSE: 0.000060\n"
     ]
    },
    {
     "data": {
      "image/png": "[encoded data removed]",
      "text/plain": [
       "<Figure size 432x288 with 1 Axes>"
      ]
     },
     "metadata": {
      "needs_background": "light"
     },
     "output_type": "display_data"
    },
    {
     "name": "stdout",
     "output_type": "stream",
     "text": [
      "\n",
      "Testing the network with learning rate  0.6\n",
      "Epoch: #0, MSE: 0.584105\n",
      "Epoch: #1000, MSE: 0.127817\n",
      "Epoch: #2000, MSE: 0.000915\n",
      "Epoch: #3000, MSE: 0.000388\n",
      "Epoch: #4000, MSE: 0.000243\n",
      "Epoch: #5000, MSE: 0.000177\n",
      "Epoch: #6000, MSE: 0.000139\n",
      "Epoch: #7000, MSE: 0.000114\n",
      "Epoch: #8000, MSE: 0.000096\n",
      "Epoch: #9000, MSE: 0.000084\n"
     ]
    },
    {
     "data": {
      "image/png": "[encoded data removed]",
      "text/plain": [
       "<Figure size 432x288 with 1 Axes>"
      ]
     },
     "metadata": {
      "needs_background": "light"
     },
     "output_type": "display_data"
    },
    {
     "name": "stdout",
     "output_type": "stream",
     "text": [
      "\n",
      "Testing the network with learning rate  0.7\n",
      "Epoch: #0, MSE: 0.531564\n",
      "Epoch: #1000, MSE: 0.002051\n",
      "Epoch: #2000, MSE: 0.000380\n",
      "Epoch: #3000, MSE: 0.000201\n",
      "Epoch: #4000, MSE: 0.000136\n",
      "Epoch: #5000, MSE: 0.000102\n",
      "Epoch: #6000, MSE: 0.000081\n",
      "Epoch: #7000, MSE: 0.000067\n",
      "Epoch: #8000, MSE: 0.000058\n",
      "Epoch: #9000, MSE: 0.000050\n"
     ]
    },
    {
     "data": {
      "image/png": "[encoded data removed]",
      "text/plain": [
       "<Figure size 432x288 with 1 Axes>"
      ]
     },
     "metadata": {
      "needs_background": "light"
     },
     "output_type": "display_data"
    },
    {
     "name": "stdout",
     "output_type": "stream",
     "text": [
      "\n",
      "Testing the network with learning rate  0.7999999999999999\n",
      "Epoch: #0, MSE: 0.282077\n",
      "Epoch: #1000, MSE: 0.000853\n",
      "Epoch: #2000, MSE: 0.000253\n",
      "Epoch: #3000, MSE: 0.000144\n",
      "Epoch: #4000, MSE: 0.000100\n",
      "Epoch: #5000, MSE: 0.000076\n",
      "Epoch: #6000, MSE: 0.000062\n",
      "Epoch: #7000, MSE: 0.000052\n",
      "Epoch: #8000, MSE: 0.000044\n",
      "Epoch: #9000, MSE: 0.000039\n"
     ]
    },
    {
     "data": {
      "image/png": "[encoded data removed]",
      "text/plain": [
       "<Figure size 432x288 with 1 Axes>"
      ]
     },
     "metadata": {
      "needs_background": "light"
     },
     "output_type": "display_data"
    },
    {
     "name": "stdout",
     "output_type": "stream",
     "text": [
      "\n",
      "Testing the network with learning rate  0.8999999999999999\n",
      "Epoch: #0, MSE: 0.542786\n",
      "Epoch: #1000, MSE: 0.026983\n",
      "Epoch: #2000, MSE: 0.025789\n",
      "Epoch: #3000, MSE: 0.025503\n",
      "Epoch: #4000, MSE: 0.025381\n",
      "Epoch: #5000, MSE: 0.025315\n",
      "Epoch: #6000, MSE: 0.025276\n",
      "Epoch: #7000, MSE: 0.025249\n",
      "Epoch: #8000, MSE: 0.025231\n",
      "Epoch: #9000, MSE: 0.025217\n"
     ]
    },
    {
     "data": {
      "image/png": "[encoded data removed]",
      "text/plain": [
       "<Figure size 432x288 with 1 Axes>"
      ]
     },
     "metadata": {
      "needs_background": "light"
     },
     "output_type": "display_data"
    }
   ],
   "source": [
    "if __name__ == '__main__':\n",
    "    print(\"Training set : Bipolar AND\")\n",
    "    lr = 0.2\n",
    "    for i in range(2,10):\n",
    "        print()\n",
    "        print(\"Testing the network with learning rate \",lr)\n",
    "        tune(lr)\n",
    "        lr += 0.1\n",
    "    "
   ]
  },
  {
   "cell_type": "code",
   "execution_count": 11,
   "metadata": {},
   "outputs": [],
   "source": [
    "# From the obove output it is clear that from 0.5 - 0.9 the model converge faster than the lower lr values."
   ]
  },
  {
   "cell_type": "code",
   "execution_count": null,
   "metadata": {},
   "outputs": [],
   "source": []
  }
 ],
 "metadata": {
  "kernelspec": {
   "display_name": "Python 3",
   "language": "python",
   "name": "python3"
  },
  "language_info": {
   "codemirror_mode": {
    "name": "ipython",
    "version": 3
   },
   "file_extension": ".py",
   "mimetype": "text/x-python",
   "name": "python",
   "nbconvert_exporter": "python",
   "pygments_lexer": "ipython3",
   "version": "3.7.3"
  }
 },
 "nbformat": 4,
 "nbformat_minor": 2
}
